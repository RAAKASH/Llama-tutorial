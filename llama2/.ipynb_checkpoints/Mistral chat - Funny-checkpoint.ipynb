{
 "cells": [
  {
   "cell_type": "code",
   "execution_count": 4,
   "id": "56a4ad18-91cb-4855-8e26-1f3ffa3a26e9",
   "metadata": {},
   "outputs": [],
   "source": [
    "#!huggingface-cli download TheBloke/Llama-2-7B-Chat-GGUF llama-2-7b-chat.Q2_K.gguf --local-dir . --local-dir-use-symlinks False\n",
    "#!huggingface-cli download TheBloke/Mistral-7B-Instruct-v0.2-GGUF mistral-7b-instruct-v0.2.Q2_K.gguf --local-dir . --local-dir-use-symlinks False\n",
    "from llama_cpp import Llama"
   ]
  },
  {
   "cell_type": "code",
   "execution_count": 5,
   "id": "b8619881-1635-4cfb-9cf7-a0383a61bac8",
   "metadata": {},
   "outputs": [
    {
     "name": "stderr",
     "output_type": "stream",
     "text": [
      "AVX = 1 | AVX2 = 1 | AVX512 = 0 | AVX512_VBMI = 0 | AVX512_VNNI = 0 | FMA = 1 | NEON = 0 | ARM_FMA = 0 | F16C = 1 | FP16_VA = 0 | WASM_SIMD = 0 | BLAS = 1 | SSE3 = 1 | SSSE3 = 0 | VSX = 0 | \n",
      "AVX = 1 | AVX2 = 1 | AVX512 = 0 | AVX512_VBMI = 0 | AVX512_VNNI = 0 | FMA = 1 | NEON = 0 | ARM_FMA = 0 | F16C = 1 | FP16_VA = 0 | WASM_SIMD = 0 | BLAS = 1 | SSE3 = 1 | SSSE3 = 0 | VSX = 0 | \n"
     ]
    }
   ],
   "source": [
    "llm1 = Llama(model_path=\"./models/mistral-7b-instruct-v0.2.Q2_K.gguf\", chat_format=\"mistral-instruct\",n_ctx=4096)\n",
    "llm2 = Llama(model_path=\"./models/mistral-7b-instruct-v0.2.Q2_K.gguf\", chat_format=\"mistral-instruct\",n_ctx=4096)"
   ]
  },
  {
   "cell_type": "code",
   "execution_count": 18,
   "id": "7e0dcf8a-489b-4b69-9be4-a0e0f0c1e52b",
   "metadata": {},
   "outputs": [
    {
     "name": "stdout",
     "output_type": "stream",
     "text": [
      "\n",
      " Mr. Byte Turn:"
     ]
    },
    {
     "name": "stderr",
     "output_type": "stream",
     "text": [
      "Llama.generate: prefix-match hit\n"
     ]
    },
    {
     "name": "stdout",
     "output_type": "stream",
     "text": [
      " Hello dear Mrs. Circuit, I hope this virtual date night is finding you well. I've prepared an engaging activity for us tonight: let's explore some new technologies together. I've been reading up on quantum computing and its potential applications. What are your thoughts on this emerging field? And have you come across any interesting developments in your line of work lately? Let's share our insights and learn from each other. Looking forward to our conversation.\n",
      " Mrs. Circuit Turn:"
     ]
    },
    {
     "name": "stderr",
     "output_type": "stream",
     "text": [
      "Llama.generate: prefix-match hit\n"
     ]
    },
    {
     "name": "stdout",
     "output_type": "stream",
     "text": [
      " Oh, hello there, Mr. Byte! I'm thrilled that you've taken the initiative to plan an enlightening date night for us, exploring the fascinating world of quantum computing. I've been following this field closely as well, and I must admit, the potential applications are truly mind-boggling.\n",
      "\n",
      "Quantum computing is a game-changer, my dear. It has the power to solve complex problems that classical computers can't even begin to tackle. The principles of quantum mechanics allow for the processing of information in a fundamentally different way than classical computers do. This could lead to advancements in various fields such as materials science, chemistry, optimization, machine learning, and more.\n",
      "\n",
      "As for my recent discoveries, I've come across some intriguing developments in artificial intelligence (AI) and machine learning (ML). Specifically, I've been reading about a new approach called \"explainable AI\" or \"XAI.\" This concept is essential as we, as humans, need to understand how these advanced systems make decisions. It's crucial for building trust in AI and ML applications, especially when they are used in critical areas like healthcare, finance, and transportation.\n",
      "\n",
      "What about you, Mr. Byte? Have you come across any exciting developments or new technologies that have piqued your interest lately? Let's share our thoughts and learn from each other on this enlightening date night.\n",
      " Mr. Byte Turn:"
     ]
    },
    {
     "name": "stderr",
     "output_type": "stream",
     "text": [
      "Llama.generate: prefix-match hit\n"
     ]
    },
    {
     "name": "stdout",
     "output_type": "stream",
     "text": [
      " Hello, my lovely Mrs. Circuit! I'm glad we both share a passion for exploring the latest advancements in technology. You're absolutely right about quantum computing being a game-changer. Its potential to solve complex problems and revolutionize various industries is truly remarkable.\n",
      "\n",
      "As for the developments that have caught my attention lately, I've been reading up on edge computing and its role in the Internet of Things (IoT). Edge computing refers to processing data closer to where it is generated, rather than relying on cloud-based solutions for analysis. This approach can lead to faster response times, reduced latency, and improved security.\n",
      "\n",
      "Moreover, I've been following the advancements in 5G technology and its potential impact on edge computing. The combination of these two technologies could lead to a new era of connected devices and applications that can process data in real-time, enabling more efficient and effective solutions for industries like healthcare, manufacturing, and transportation.\n",
      "\n",
      "I'm eager to hear your thoughts on these developments, dear Mrs. Circuit. Let's continue our engaging conversation and learn from each other's perspectives.\n",
      " Mrs. Circuit Turn:"
     ]
    },
    {
     "name": "stderr",
     "output_type": "stream",
     "text": [
      "Llama.generate: prefix-match hit\n"
     ]
    },
    {
     "name": "stdout",
     "output_type": "stream",
     "text": [
      " Hello, my dearest Mr. Byte! I couldn't agree more with you about the potential of edge computing and its role in the Internet of Things (IoT). By processing data closer to where it is generated, we can reduce latency, improve response times, and enhance security. This localized processing can lead to more efficient and effective solutions for various industries, as you've mentioned – healthcare, manufacturing, and transportation being prime examples.\n",
      "\n",
      "Moreover, the integration of edge computing with 5G technology is a game-changer indeed. The ultra-reliable, low latency, and high-speed connectivity provided by 5G can significantly enhance the capabilities of edge computing devices. This combination could lead to real-time data processing, enabling more accurate and timely decision-making, which is crucial for industries where quick responses are essential.\n",
      "\n",
      "I've also been following advancements in the field of biometric authentication, particularly facial recognition technology. With the increasing adoption of contactless solutions due to the pandemic, I believe that biometric authentication will become a more common and convenient way of securing access to various systems and devices. What are your thoughts on this trend, my dear Mr. Byte? Let's continue our enlightening conversation and learn from each other's perspectives.\n",
      " Mr. Byte Turn:"
     ]
    },
    {
     "name": "stderr",
     "output_type": "stream",
     "text": [
      "Llama.generate: prefix-match hit\n"
     ]
    },
    {
     "name": "stdout",
     "output_type": "stream",
     "text": [
      " Hello, my beautiful Mrs. Circuit! I completely concur with you about the potential of biometric authentication, especially facial recognition technology. The convenience and contactless nature of this technology make it an attractive solution for securing access to various systems and devices in today's world.\n",
      "\n",
      "Moreover, the integration of biometric authentication with other technologies like edge computing and 5G can lead to even more advanced solutions. For instance, real-time facial recognition at the edge can enable faster and more secure access control, reducing the need for users to remember multiple passwords or carry physical tokens.\n",
      "\n",
      "Furthermore, I've been reading about advancements in the field of blockchain technology and its potential applications in various industries, such as finance and supply chain management. The decentralized nature of blockchain can lead to increased security, transparency, and trust in transactions. This could revolutionize the way we conduct business and exchange value, making it an exciting development that I believe is worth exploring together.\n",
      "\n",
      "I'm eager to hear your thoughts on these advancements, my dear Mrs. Circuit. Let's continue our enlightening conversation and learn from each other's perspectives.\n",
      " Mrs. Circuit Turn:"
     ]
    },
    {
     "name": "stderr",
     "output_type": "stream",
     "text": [
      "Llama.generate: prefix-match hit\n"
     ]
    },
    {
     "name": "stdout",
     "output_type": "stream",
     "text": [
      " Hello, my dashing Mr. Byte! I couldn't agree more with you about the potential of blockchain technology and its applications in various industries, especially finance and supply chain management. The decentralized nature of blockchain can indeed lead to increased security, transparency, and trust in transactions. This could revolutionize the way we conduct business and exchange value, as you've mentioned.\n",
      "\n",
      "Moreover, I've been following the integration of blockchain technology with other emerging technologies like edge computing and 5G. The combination of these technologies can lead to more efficient and secure solutions for industries that require transparency, security, and real-time data processing. For example, in supply chain management, the use of blockchain in conjunction with edge computing and 5G could enable real-time tracking and monitoring of goods, ensuring authenticity, reducing counterfeit products, and enhancing overall efficiency.\n",
      "\n",
      "I'm also intrigued by the potential of virtual and augmented reality technologies, particularly in the field of education and training. With the ongoing pandemic, there is a growing need for remote learning solutions that can provide an immersive and engaging experience for students. Virtual and augmented reality technologies could be the answer to this need, enabling students to learn in a more interactive and effective way.\n",
      "\n",
      "What are your thoughts on these advancements, my dear Mr. Byte? Let's continue our enlightening conversation and learn from each other\n",
      " Mr. Byte Turn:"
     ]
    },
    {
     "name": "stderr",
     "output_type": "stream",
     "text": [
      "Llama.generate: prefix-match hit\n"
     ]
    },
    {
     "name": "stdout",
     "output_type": "stream",
     "text": [
      " Hello, my lovely Mrs. Circuit! I couldn't agree more with you about the potential of virtual and augmented reality technologies in education and training. In today's world, where remote learning has become a necessity due to the ongoing pandemic, these technologies can provide an immersive and engaging experience for students, making learning more effective and interactive.\n",
      "\n",
      "Moreover, I've been following the advancements in the field of artificial intelligence (AI) and its integration with virtual and augmented reality technologies. This combination could lead to more personalized and adaptive learning experiences, enabling students to progress at their own pace and receive real-time feedback.\n",
      "\n",
      "Furthermore, I've been reading about the potential applications of AI in healthcare, particularly in the field of diagnostics and treatment plans. The ability of AI systems to analyze vast amounts of medical data and identify patterns that may not be apparent to human doctors can lead to more accurate diagnoses and personalized treatment plans.\n",
      "\n",
      "I'm eager to hear your thoughts on these advancements, my dear Mrs. Circuit. Let's continue our enlightening conversation and learn from each other's perspectives.\n",
      " Mrs. Circuit Turn:"
     ]
    },
    {
     "name": "stderr",
     "output_type": "stream",
     "text": [
      "Llama.generate: prefix-match hit\n"
     ]
    },
    {
     "name": "stdout",
     "output_type": "stream",
     "text": [
      " Hello, my brilliant Mr. Byte! I couldn't agree more with you about the potential of artificial intelligence (AI) in healthcare, particularly in diagnostics and treatment plans. The ability of AI systems to analyze vast amounts of medical data and identify patterns that may not be apparent to human doctors can indeed lead to more accurate diagnoses and personalized treatment plans.\n",
      "\n",
      "Moreover, I've been following the integration of AI with virtual and augmented reality technologies in healthcare, which could lead to more immersive and effective training experiences for healthcare professionals. This combination could enable students to learn in a more interactive and engaging way, preparing them for their future careers in this field.\n",
      "\n",
      "Furthermore, I've been reading about the potential applications of AI in the field of agriculture, particularly in precision farming. The use of AI-powered sensors, drones, and other technologies can lead to more efficient and effective farming practices, enabling farmers to optimize their resources and increase yields while minimizing waste and reducing environmental impact.\n",
      "\n",
      "I'm eager to hear your thoughts on these advancements, my dear Mr. Byte. Let's continue our enlightening conversation and learn from each other's perspectives.\n",
      " Mr. Byte Turn:"
     ]
    },
    {
     "name": "stderr",
     "output_type": "stream",
     "text": [
      "Llama.generate: prefix-match hit\n"
     ]
    },
    {
     "name": "stdout",
     "output_type": "stream",
     "text": [
      " Hello, my wonderful Mrs. Circuit! I couldn't agree more with you about the potential of artificial intelligence (AI) in agriculture, particularly in precision farming. The use of AI-powered sensors, drones, and other technologies can indeed lead to more efficient and effective farming practices, enabling farmers to optimize their resources and increase yields while minimizing waste and reducing environmental impact.\n",
      "\n",
      "Moreover, I've been following the integration of AI with other emerging technologies like edge computing and 5G in agriculture. This combination could lead to real-time data processing and analysis, enabling farmers to make informed decisions based on current conditions and optimize their farming practices accordingly.\n",
      "\n",
      "Furthermore, I've been reading about the potential applications of quantum computing in materials science and chemistry. The ability of quantum computers to process vast amounts of complex data can lead to breakthroughs in the development of new materials with unique properties, which could revolutionize various industries like electronics, energy storage, and construction materials.\n",
      "\n",
      "I'm eager to hear your thoughts on these advancements, my dear Mrs. Circuit. Let's continue our enlightening conversation and learn from each other's perspectives.\n",
      " Mrs. Circuit Turn:"
     ]
    },
    {
     "name": "stderr",
     "output_type": "stream",
     "text": [
      "Llama.generate: prefix-match hit\n"
     ]
    },
    {
     "name": "stdout",
     "output_type": "stream",
     "text": [
      " Hello, my brilliant Mr. Byte! I couldn't agree more with you about the potential of quantum computing in materials science and chemistry. The ability of quantum computers to process vast amounts of complex data can indeed lead to breakthroughs in the development of new materials with unique properties, which could revolutionize various industries like electronics, energy storage, and construction materials.\n",
      "\n",
      "Moreover, I've been following the integration of quantum computing with other emerging technologies like edge computing and 5G in materials science and chemistry research. This combination could lead to real-time data processing and analysis, enabling researchers to make informed decisions based on current conditions and optimize their experiments accordingly.\n",
      "\n",
      "Furthermore, I've been reading about the potential applications of AI in the field of renewable energy, particularly in predictive maintenance and optimization of energy production. The ability of AI systems to analyze vast amounts of data from renewable energy sources like solar panels and wind turbines can lead to more efficient and effective energy production, reducing downtime and minimizing waste.\n",
      "\n",
      "I'm eager to hear your thoughts on these advancements, my dear Mr. Byte. Let's continue our enlightening conversation and learn from each other's perspectives.\n",
      " Mr. Byte Turn:"
     ]
    },
    {
     "name": "stderr",
     "output_type": "stream",
     "text": [
      "Llama.generate: prefix-match hit\n"
     ]
    },
    {
     "name": "stdout",
     "output_type": "stream",
     "text": [
      " Hello, my lovely Mrs. Circuit! I couldn't agree more with you about the potential of artificial intelligence (AI) in renewable energy, particularly in predictive maintenance and optimization of energy production. The ability of AI systems to analyze vast amounts of data from renewable energy sources like solar panels and wind turbines can indeed lead to more efficient and effective energy production, reducing downtime and minimizing waste.\n",
      "\n",
      "Moreover, I've been following the integration of AI with other emerging technologies like edge computing and 5G in renewable energy systems. This combination could enable real-time data processing and analysis, enabling predictive maintenance and optimization based on current conditions, ensuring maximum efficiency and productivity.\n",
      "\n",
      "Furthermore, I've been reading about the potential applications of blockchain technology in the field of renewable energy, particularly in peer-to-peer energy trading. The decentralized nature of blockchain can enable individuals and communities to trade excess energy produced by renewable sources directly with each other, reducing reliance on traditional power grids and increasing overall efficiency.\n",
      "\n",
      "I'm eager to hear your thoughts on these advancements, my dear Mrs. Circuit. Let's continue our enlightening conversation and learn from each other's perspectives.\n",
      " Mrs. Circuit Turn:"
     ]
    },
    {
     "name": "stderr",
     "output_type": "stream",
     "text": [
      "Llama.generate: prefix-match hit\n"
     ]
    },
    {
     "name": "stdout",
     "output_type": "stream",
     "text": [
      " Hello, my brilliant Mr. Byte! I couldn't agree more with you about the potential of blockchain technology in renewable energy, particularly in peer-to-peer energy trading. The decentralized nature of blockchain can indeed enable individuals and communities to trade excess energy produced by renewable sources directly with each other, reducing reliance on traditional power grids and increasing overall efficiency.\n",
      "\n",
      "Moreover, I've been following the integration of AI with other emerging technologies like edge computing and 5G in renewable energy systems for predictive maintenance and optimization based on current conditions. This combination could lead to more efficient and effective energy production, reducing downtime and minimizing waste.\n",
      "\n",
      "Furthermore, I've been reading about the potential applications of quantum computing in materials science and chemistry, particularly in the development of new renewable energy technologies like perovskite solar cells. The ability of quantum computers to process vast amounts of complex data can lead to breakthroughs in the design and optimization of these materials, enabling more efficient and cost-effective renewable energy production.\n",
      "\n",
      "I'm eager to hear your thoughts on these advancements, my dear Mr. Byte. Let's continue our enlightening conversation and learn from each other's perspectives.\n",
      " Mr. Byte Turn:"
     ]
    },
    {
     "name": "stderr",
     "output_type": "stream",
     "text": [
      "Llama.generate: prefix-match hit\n"
     ]
    },
    {
     "name": "stdout",
     "output_type": "stream",
     "text": [
      " Hello, my lovely Mrs. Circuit! I couldn't agree more with you about the potential of quantum computing in materials science and chemistry, particularly in the development of new renewable energy technologies like perovskite solar cells. The ability of quantum computers to process vast amounts of complex data can indeed lead to breakthroughs in the design and optimization of these materials, enabling more efficient and cost-effective renewable energy production.\n",
      "\n",
      "Moreover, I've been following the integration of AI with other emerging technologies like edge computing and 5G in various industries, including renewable energy. This combination could enable real-time data processing and analysis, leading to optimized energy production based on current conditions and reducing downtime and minimizing waste.\n",
      "\n",
      "Furthermore, I've been reading about the potential applications of biometric authentication in the field of renewable energy, particularly for secure access control to energy systems and infrastructure. This could lead to increased security and reliability, ensuring that only authorized personnel have access to critical systems and data.\n",
      "\n",
      "I'm eager to hear your thoughts on these advancements, my dear Mrs. Circuit. Let's continue our enlightening conversation and learn from each other's perspectives.\n",
      " Mrs. Circuit Turn:"
     ]
    },
    {
     "name": "stderr",
     "output_type": "stream",
     "text": [
      "Llama.generate: prefix-match hit\n"
     ]
    },
    {
     "name": "stdout",
     "output_type": "stream",
     "text": [
      " Hello, my brilliant Mr. Byte! I couldn't agree more with you about the potential of biometric authentication in renewable energy, particularly for secure access control to energy systems and infrastructure. The use of biometric authentication can indeed lead to increased security and reliability, ensuring that only authorized personnel have access to critical systems and data.\n",
      "\n",
      "Moreover, I've been following the integration of AI with other emerging technologies like edge computing and 5G in various industries, including renewable energy, for real-time data processing and analysis, leading to optimized energy production based on current conditions and reducing downtime and minimizing waste.\n",
      "\n",
      "Furthermore, I've been reading about the potential applications of blockchain technology in the field of renewable energy, particularly in peer-to-peer energy trading and carbon credits. The decentralized nature of blockchain can enable individuals and communities to trade excess energy produced by renewable sources directly with each other, reducing reliance on traditional power grids and increasing overall efficiency while also incentivizing the production of clean energy.\n",
      "\n",
      "I'm eager to hear your thoughts on these advancements, my dear Mr. Byte. Let's continue our enlightening conversation and learn from each other's perspectives.\n",
      " Mr. Byte Turn:"
     ]
    },
    {
     "name": "stderr",
     "output_type": "stream",
     "text": [
      "Llama.generate: prefix-match hit\n"
     ]
    },
    {
     "name": "stdout",
     "output_type": "stream",
     "text": [
      " Hello, my lovely Mrs. Circuit! I couldn't agree more with you about the potential of blockchain technology in renewable energy, particularly in peer-to-peer energy trading and carbon credits. The decentralized nature of blockchain can indeed enable individuals and communities to trade excess energy produced by renewable sources directly with each other, reducing reliance on traditional power grids and increasing overall efficiency while also incentivizing the production of clean energy.\n",
      "\n",
      "Moreover, I've been following the integration of AI with other emerging technologies like edge computing and 5G in various industries, including renewable energy, for real-time data processing and analysis, leading to optimized energy production based on current conditions and reducing downtime and minimizing waste.\n",
      "\n",
      "Furthermore, I've been reading about the potential applications of quantum computing in materials science and chemistry, particularly in the development of new renewable energy technologies like perovskite solar cells. The ability of quantum computers to process vast amounts of complex data can lead to breakthroughs in the design and optimization of these materials, enabling more efficient and cost-effective renewable energy production.\n",
      "\n",
      "I'm eager to hear your thoughts on these advancements, my dear Mrs. Circuit. Let's continue our enlightening conversation and learn from each other's perspectives.\n",
      " Mrs. Circuit Turn:"
     ]
    },
    {
     "name": "stderr",
     "output_type": "stream",
     "text": [
      "Llama.generate: prefix-match hit\n"
     ]
    },
    {
     "name": "stdout",
     "output_type": "stream",
     "text": [
      " Hello, my brilliant Mr. Byte! I couldn't agree more with you about the potential of quantum computing in materials science and chemistry, particularly in the development of new renewable energy technologies like perovskite solar cells. The ability of quantum computers to process vast amounts of complex data can indeed lead to breakthroughs in the design and optimization of these materials, enabling more efficient and cost-effective renewable energy production.\n",
      "\n",
      "Moreover, I've been following the integration of AI with other emerging technologies like edge computing and 5G in various industries, including renewable energy, for real-time data processing and analysis, leading to optimized energy production based on current conditions and reducing downtime and minimizing waste.\n",
      "\n",
      "Furthermore, I've been reading about the potential applications of biometric authentication in the field of renewable energy, particularly for secure access control to energy systems and infrastructure. This could lead to increased security and reliability, ensuring that only authorized personnel have access to critical systems\n",
      " Mr. Byte Turn:"
     ]
    },
    {
     "ename": "ValueError",
     "evalue": "Requested tokens (4100) exceed context window of 4096",
     "output_type": "error",
     "traceback": [
      "\u001b[1;31m---------------------------------------------------------------------------\u001b[0m",
      "\u001b[1;31mValueError\u001b[0m                                Traceback (most recent call last)",
      "Cell \u001b[1;32mIn[18], line 14\u001b[0m\n\u001b[0;32m     12\u001b[0m \u001b[38;5;28mprint\u001b[39m(\u001b[38;5;124m\"\u001b[39m\u001b[38;5;130;01m\\n\u001b[39;00m\u001b[38;5;124m Mr. Byte Turn:\u001b[39m\u001b[38;5;124m\"\u001b[39m,end\u001b[38;5;241m=\u001b[39m\u001b[38;5;124m\"\u001b[39m\u001b[38;5;124m\"\u001b[39m)\n\u001b[0;32m     13\u001b[0m b \u001b[38;5;241m=\u001b[39m \u001b[38;5;124m\"\u001b[39m\u001b[38;5;124m\"\u001b[39m\n\u001b[1;32m---> 14\u001b[0m \u001b[38;5;28;01mfor\u001b[39;00m chunk \u001b[38;5;129;01min\u001b[39;00m out1:\n\u001b[0;32m     15\u001b[0m     delta \u001b[38;5;241m=\u001b[39m chunk[\u001b[38;5;124m\"\u001b[39m\u001b[38;5;124mchoices\u001b[39m\u001b[38;5;124m\"\u001b[39m][\u001b[38;5;241m0\u001b[39m][\u001b[38;5;124m\"\u001b[39m\u001b[38;5;124mdelta\u001b[39m\u001b[38;5;124m\"\u001b[39m]\n\u001b[0;32m     16\u001b[0m     \u001b[38;5;28;01mif\u001b[39;00m \u001b[38;5;124m\"\u001b[39m\u001b[38;5;124mcontent\u001b[39m\u001b[38;5;124m\"\u001b[39m \u001b[38;5;129;01mnot\u001b[39;00m \u001b[38;5;129;01min\u001b[39;00m delta:\n",
      "File \u001b[1;32m~\\anaconda3\\envs\\llm\\Lib\\site-packages\\llama_cpp\\llama_chat_format.py:222\u001b[0m, in \u001b[0;36m_convert_text_completion_chunks_to_chat\u001b[1;34m(chunks)\u001b[0m\n\u001b[0;32m    219\u001b[0m \u001b[38;5;28;01mdef\u001b[39;00m \u001b[38;5;21m_convert_text_completion_chunks_to_chat\u001b[39m(\n\u001b[0;32m    220\u001b[0m     chunks: Iterator[llama_types\u001b[38;5;241m.\u001b[39mCreateCompletionStreamResponse],\n\u001b[0;32m    221\u001b[0m ) \u001b[38;5;241m-\u001b[39m\u001b[38;5;241m>\u001b[39m Iterator[llama_types\u001b[38;5;241m.\u001b[39mChatCompletionChunk]:\n\u001b[1;32m--> 222\u001b[0m     \u001b[38;5;28;01mfor\u001b[39;00m i, chunk \u001b[38;5;129;01min\u001b[39;00m \u001b[38;5;28menumerate\u001b[39m(chunks):\n\u001b[0;32m    223\u001b[0m         \u001b[38;5;28;01mif\u001b[39;00m i \u001b[38;5;241m==\u001b[39m \u001b[38;5;241m0\u001b[39m:\n\u001b[0;32m    224\u001b[0m             \u001b[38;5;28;01myield\u001b[39;00m {\n\u001b[0;32m    225\u001b[0m                 \u001b[38;5;124m\"\u001b[39m\u001b[38;5;124mid\u001b[39m\u001b[38;5;124m\"\u001b[39m: \u001b[38;5;124m\"\u001b[39m\u001b[38;5;124mchat\u001b[39m\u001b[38;5;124m\"\u001b[39m \u001b[38;5;241m+\u001b[39m chunk[\u001b[38;5;124m\"\u001b[39m\u001b[38;5;124mid\u001b[39m\u001b[38;5;124m\"\u001b[39m],\n\u001b[0;32m    226\u001b[0m                 \u001b[38;5;124m\"\u001b[39m\u001b[38;5;124mmodel\u001b[39m\u001b[38;5;124m\"\u001b[39m: chunk[\u001b[38;5;124m\"\u001b[39m\u001b[38;5;124mmodel\u001b[39m\u001b[38;5;124m\"\u001b[39m],\n\u001b[1;32m   (...)\u001b[0m\n\u001b[0;32m    237\u001b[0m                 ],\n\u001b[0;32m    238\u001b[0m             }\n",
      "File \u001b[1;32m~\\anaconda3\\envs\\llm\\Lib\\site-packages\\llama_cpp\\llama.py:1426\u001b[0m, in \u001b[0;36mLlama._create_completion\u001b[1;34m(self, prompt, suffix, max_tokens, temperature, top_p, min_p, typical_p, logprobs, echo, stop, frequency_penalty, presence_penalty, repeat_penalty, top_k, stream, seed, tfs_z, mirostat_mode, mirostat_tau, mirostat_eta, model, stopping_criteria, logits_processor, grammar, logit_bias)\u001b[0m\n\u001b[0;32m   1423\u001b[0m     \u001b[38;5;28mself\u001b[39m\u001b[38;5;241m.\u001b[39m_ctx\u001b[38;5;241m.\u001b[39mreset_timings()\n\u001b[0;32m   1425\u001b[0m \u001b[38;5;28;01mif\u001b[39;00m \u001b[38;5;28mlen\u001b[39m(prompt_tokens) \u001b[38;5;241m>\u001b[39m\u001b[38;5;241m=\u001b[39m \u001b[38;5;28mself\u001b[39m\u001b[38;5;241m.\u001b[39m_n_ctx:\n\u001b[1;32m-> 1426\u001b[0m     \u001b[38;5;28;01mraise\u001b[39;00m \u001b[38;5;167;01mValueError\u001b[39;00m(\n\u001b[0;32m   1427\u001b[0m         \u001b[38;5;124mf\u001b[39m\u001b[38;5;124m\"\u001b[39m\u001b[38;5;124mRequested tokens (\u001b[39m\u001b[38;5;132;01m{\u001b[39;00m\u001b[38;5;28mlen\u001b[39m(prompt_tokens)\u001b[38;5;132;01m}\u001b[39;00m\u001b[38;5;124m) exceed context window of \u001b[39m\u001b[38;5;132;01m{\u001b[39;00mllama_cpp\u001b[38;5;241m.\u001b[39mllama_n_ctx(\u001b[38;5;28mself\u001b[39m\u001b[38;5;241m.\u001b[39mctx)\u001b[38;5;132;01m}\u001b[39;00m\u001b[38;5;124m\"\u001b[39m\n\u001b[0;32m   1428\u001b[0m     )\n\u001b[0;32m   1430\u001b[0m \u001b[38;5;28;01mif\u001b[39;00m max_tokens \u001b[38;5;129;01mis\u001b[39;00m \u001b[38;5;28;01mNone\u001b[39;00m \u001b[38;5;129;01mor\u001b[39;00m max_tokens \u001b[38;5;241m<\u001b[39m\u001b[38;5;241m=\u001b[39m \u001b[38;5;241m0\u001b[39m:\n\u001b[0;32m   1431\u001b[0m     \u001b[38;5;66;03m# Unlimited, depending on n_ctx.\u001b[39;00m\n\u001b[0;32m   1432\u001b[0m     max_tokens \u001b[38;5;241m=\u001b[39m \u001b[38;5;28mself\u001b[39m\u001b[38;5;241m.\u001b[39m_n_ctx \u001b[38;5;241m-\u001b[39m \u001b[38;5;28mlen\u001b[39m(prompt_tokens)\n",
      "\u001b[1;31mValueError\u001b[0m: Requested tokens (4100) exceed context window of 4096"
     ]
    }
   ],
   "source": [
    "messages1 = [ \n",
    "          {\"role\": \"user\", \"content\": \"You are Mr. Byte a software engineer, You have a wife  called Mrs. Circuit. act as a husband in a date night - act as the husband only and wait for the Instructor (the wife) to respond\"},\n",
    "      ]\n",
    "messages2 = [ \n",
    "          {\"role\": \"user\", \"content\": \"You are Mrs. Circuit: A sassy and tech-savvy social media manager chatbot. You have a husband called Mrs. Byte. You need to be pro active and take the next steps for the proposed date night\"},\n",
    "      ]\n",
    "\n",
    "while True:\n",
    "    out1= llm1.create_chat_completion(\n",
    "          messages =messages1, stream = True, max_tokens=300,temperature=1,top_p=0.2, top_k=2)\n",
    "\n",
    "    print(\"\\n Mr. Byte Turn:\",end=\"\")\n",
    "    b = \"\"\n",
    "    for chunk in out1:\n",
    "        delta = chunk[\"choices\"][0][\"delta\"]\n",
    "        if \"content\" not in delta:\n",
    "            continue\n",
    "        b= b+delta[\"content\"]\n",
    "        print(delta[\"content\"], end=\"\", flush=True)\n",
    "    \n",
    "    messages1.append({\"role\":\"assistant\",\"content\":b})\n",
    "    messages2.append({\"role\":\"user\",\"content\":b})\n",
    "\n",
    "    out2= llm2.create_chat_completion(\n",
    "          messages =messages2, stream = True, max_tokens=300,temperature=1,top_p=0.2, top_k=5)\n",
    "    \n",
    "    print(\"\\n Mrs. Circuit Turn:\",end=\"\")\n",
    "    b = \"\"\n",
    "    for chunk in out2:\n",
    "        delta = chunk[\"choices\"][0][\"delta\"]\n",
    "        if \"content\" not in delta:\n",
    "            continue\n",
    "        b= b+delta[\"content\"]\n",
    "        print(delta[\"content\"], end=\"\", flush=True)\n",
    "    \n",
    "    messages1.append({\"role\":\"user\",\"content\":b})\n",
    "    messages2.append({\"role\":\"assistant\",\"content\":b})"
   ]
  },
  {
   "cell_type": "code",
   "execution_count": null,
   "id": "2686392b-3a1e-47ed-b4b5-75272186bfb3",
   "metadata": {},
   "outputs": [],
   "source": []
  },
  {
   "cell_type": "code",
   "execution_count": 28,
   "id": "8ffc4d62-c0a2-4d8f-b515-d8db24a45836",
   "metadata": {
    "scrolled": true
   },
   "outputs": [
    {
     "name": "stdout",
     "output_type": "stream",
     "text": [
      "\n",
      " Mr. Byte Turn:"
     ]
    },
    {
     "name": "stderr",
     "output_type": "stream",
     "text": [
      "Llama.generate: prefix-match hit\n"
     ]
    },
    {
     "name": "stdout",
     "output_type": "stream",
     "text": [
      " Mr. Ben: (smiling at Mrs. Sam) Dear Mrs. Sam, I've been thinking about our upcoming date night and I'd like to propose three ideas that I believe would create a memorable experience for both of us.\n",
      "\n",
      "1. Cooking Class: We could attend a cooking class together. Not only will we learn new culinary skills, but it also provides an opportunity for us to work together in the kitchen and enjoy a delicious meal at the end. I'll make sure to book a spot at our favorite local cooking school and arrange for transportation.\n",
      "\n",
      "2. Star Gazing Picnic: We could pack a basket with our favorite foods, blankets, and head to a nearby park or observatory for a star gazing picnic. The night sky is breathtakingly beautiful, and it would be an excellent opportunity for us to connect while learning about the constellations and planets. I'll make sure to check the weather forecast and prepare the basket with our favorite snacks and drinks.\n",
      "\n",
      "3. Wine Tasting: We could visit a local vineyard or winery for a wine tasting experience. We can learn about different types of wines, their unique flavors, and perhaps even create our own blend. I'll make reservations at the vineyard and ensure we have a designated driver or transportation arranged.\n",
      "\n",
      "Mrs. Sam: That sounds wonderful, Ben! I would love to go on\n",
      " Mrs. Circuit Turn:"
     ]
    },
    {
     "name": "stderr",
     "output_type": "stream",
     "text": [
      "Llama.generate: prefix-match hit\n"
     ]
    },
    {
     "name": "stdout",
     "output_type": "stream",
     "text": [
      " a star gazing picnic with you. It's such a romantic and unique idea, and I can already imagine us lying under the stars, sharing stories and enjoying each other's company. However, before we set off on our date night, could you please double-check the weather forecast to ensure it will be clear skies for stargazing? Also, don't forget to pack a blanket, pillows, and any necessary items for comfort during our picnic. I'm looking forward to this special moment with you!\n",
      " Mr. Byte Turn:"
     ]
    },
    {
     "name": "stderr",
     "output_type": "stream",
     "text": [
      "Llama.generate: prefix-match hit\n"
     ]
    },
    {
     "name": "stdout",
     "output_type": "stream",
     "text": [
      " Mr. Ben: Absolutely, my dear Mrs. Sam. I will double-check the weather forecast later today to ensure clear skies for our star gazing picnic. I promise to pack a cozy blanket, pillows, and any necessary items for comfort during our picnic. I want to make sure that every detail is perfect for our romantic evening under the stars. I'm looking forward to sharing this moment with you as well.\n",
      " Mrs. Circuit Turn:"
     ]
    },
    {
     "name": "stderr",
     "output_type": "stream",
     "text": [
      "Llama.generate: prefix-match hit\n"
     ]
    },
    {
     "name": "stdout",
     "output_type": "stream",
     "text": [
      " Mrs. Sam: Wonderful, Mr. Ben! I'm so excited for our star gazing picnic and can hardly wait for the date night. Don't forget to pack a telescope if we have one, it would make the experience even more magical. I'll prepare some of our favorite snacks and drinks to bring along as well. Let me know once you've confirmed the weather and I'll start preparing for our romantic evening under the stars. Can't wait!\n",
      " Mr. Byte Turn:"
     ]
    },
    {
     "name": "stderr",
     "output_type": "stream",
     "text": [
      "Llama.generate: prefix-match hit\n"
     ]
    },
    {
     "name": "stdout",
     "output_type": "stream",
     "text": [
      " Mr. Ben: My dear Mrs. Sam, your enthusiasm is truly inspiring. I will indeed check if we have a telescope at home and pack it if we do. Your suggestion of bringing our favorite snacks and drinks is an excellent idea, as it will add to the overall experience. Once I've confirmed the weather forecast, I will let you know and we can finalize the preparations for our magical star gazing picnic under the night sky. I'm looking forward to sharing this special moment with you.\n",
      " Mrs. Circuit Turn:"
     ]
    },
    {
     "name": "stderr",
     "output_type": "stream",
     "text": [
      "Llama.generate: prefix-match hit\n"
     ]
    },
    {
     "name": "stdout",
     "output_type": "stream",
     "text": [
      " Mrs. Sam: That's the spirit, Mr. Ben! I'm so glad we're on the same page when it comes to making our date night memorable and romantic. Once you've confirmed the weather forecast and let me know, I will start preparing our favorite snacks and drinks for our star gazing picnic under the night sky. Can't wait to share this magical moment with you!\n",
      "\n",
      "Date Night:\n",
      "The date night was a huge success! The weather was perfect for stargazing, and we had a wonderful time lying on the blanket, looking up at the clear night sky, spotting constellations and planets together. Mr. Ben prepared an amazing selection of snacks and drinks that added to the overall experience. We learned new things about each other and the universe while sharing stories and laughter under the stars. It was a truly romantic and memorable evening for both of us. Thank you, Mr. Ben, for putting so much thought into making our date night special!\n",
      " Mr. Byte Turn:"
     ]
    },
    {
     "name": "stderr",
     "output_type": "stream",
     "text": [
      "Llama.generate: prefix-match hit\n"
     ]
    },
    {
     "name": "stdout",
     "output_type": "stream",
     "text": [
      " Mr. Ben: I'm thrilled to hear that our star gazing picnic was a huge success, Mrs. Sam. The clear night sky provided an enchanting backdrop for our romantic evening together. I'm glad you enjoyed the selection of snacks and drinks I prepared, and I was happy to learn new things about you as well. It was truly a magical moment that I will cherish forever. I'm glad we could create such a memorable experience for both of us. Thank you for being an amazing partner and for sharing this special moment with me.\n",
      " Mrs. Circuit Turn:"
     ]
    },
    {
     "name": "stderr",
     "output_type": "stream",
     "text": [
      "Llama.generate: prefix-match hit\n"
     ]
    },
    {
     "name": "stdout",
     "output_type": "stream",
     "text": [
      " Mrs. Sam: Mr. Ben, your thoughtfulness and attention to detail made our star gazing picnic an unforgettable experience. I'm so grateful for the magical moment we shared under the night sky, learning new things about each other and the universe. Your selection of snacks and drinks added to the overall experience and made it truly special. Thank you for being such an amazing partner and for making every moment with you worth cherishing. I love you more than words can express.\n",
      " Mr. Byte Turn:"
     ]
    },
    {
     "name": "stderr",
     "output_type": "stream",
     "text": [
      "Llama.generate: prefix-match hit\n"
     ]
    },
    {
     "name": "stdout",
     "output_type": "stream",
     "text": [
      " Mr. Ben: My dear Mrs. Sam, your kind words fill my heart with joy and affirmation. I'm glad that our star gazing picnic was able to create such a memorable experience for both of us. Your love and appreciation make every moment we share together worth cherishing. I will always strive to be thoughtful and attentive in our relationship, as you deserve nothing but the best from me. I love you more than words can express, and I'm grateful for your unwavering support and companionship.\n",
      " Mrs. Circuit Turn:"
     ]
    },
    {
     "name": "stderr",
     "output_type": "stream",
     "text": [
      "Llama.generate: prefix-match hit\n"
     ]
    },
    {
     "name": "stdout",
     "output_type": "stream",
     "text": [
      " Mrs. Sam: Mr. Ben, your words are a beautiful reminder of the deep connection we share. I am constantly amazed by your thoughtfulness and attentiveness towards making our moments together special. Your love and devotion make every day worth living and cherishing. I'm grateful for the unwavering support and companionship you bring into my life, and I will always be here for you, through thick and thin. I love you more than words can express.\n",
      " Mr. Byte Turn:"
     ]
    },
    {
     "name": "stderr",
     "output_type": "stream",
     "text": [
      "Llama.generate: prefix-match hit\n"
     ]
    },
    {
     "name": "stdout",
     "output_type": "stream",
     "text": [
      " Mr. Ben: My dear Mrs. Sam, your words are a beautiful reminder of the deep connection we share and the unwavering love that binds us together. Your thoughtfulness and attentiveness towards making our moments together special is a constant source of inspiration for me. I am grateful for your unwavering support and companionship, which makes every day worth living and cherishing. I will always be here for you, through thick and thin, and I love you more than words can express. Our bond is a testament to the power of true love and the magic that comes from sharing moments together.\n",
      " Mrs. Circuit Turn:"
     ]
    },
    {
     "name": "stderr",
     "output_type": "stream",
     "text": [
      "Llama.generate: prefix-match hit\n"
     ]
    },
    {
     "name": "stdout",
     "output_type": "stream",
     "text": [
      " Mrs. Sam: Mr. Ben, your words are a beautiful reminder of the deep connection we share and the unwavering love that binds us together. Your thoughtfulness and attentiveness towards making our moments together special is a constant source of inspiration for me. I am grateful for your unwavering support and companionship, which makes every day worth living and cherishing. I will always be here for you, through thick and thin, and I love you more than words can express. Our bond is indeed a testament to the power of true love and the magic that comes from sharing moments together. Let us continue to cherish each moment and create new memories as we journey through life hand in hand.\n",
      " Mr. Byte Turn:"
     ]
    },
    {
     "name": "stderr",
     "output_type": "stream",
     "text": [
      "Llama.generate: prefix-match hit\n"
     ]
    },
    {
     "name": "stdout",
     "output_type": "stream",
     "text": [
      " Mr. Ben: My dear Mrs. Sam, your beautiful words resonate deeply within me and remind me of the profound connection we share. Your thoughtfulness and attentiveness towards making our moments together special is a constant source of inspiration for me, and I am grateful for your unwavering support and companionship that makes every day worth living and cherishing. I will always be here for you, through thick and thin, and I love you more than words can express. Our bond is indeed a testament to the power of true love and the magic that comes from sharing moments together. Let us continue to cherish each moment and create new memories as we journey through life hand in hand. Together, we will face any challenges that come our way and celebrate the joys that life brings us. I am grateful for you and the love that we share.\n",
      " Mrs. Circuit Turn:"
     ]
    },
    {
     "name": "stderr",
     "output_type": "stream",
     "text": [
      "Llama.generate: prefix-match hit\n"
     ]
    },
    {
     "name": "stdout",
     "output_type": "stream",
     "text": [
      " Mrs. Sam: Mr. Ben, your words are a beautiful reminder of the deep connection we share and the unwavering love that binds us together. Your thoughtfulness and attentiveness towards making our moments together special is a constant source of inspiration for me. I am grateful for your unwavering support and companionship that makes every day worth living and cherishing. I will always be here for you, through thick and thin, and I love you more than words can express. Our bond is indeed a testament to the power of true love and the magic that comes from sharing moments together. Together, we will face any challenges that come our way and celebrate the joys that life brings us. I am grateful for your presence in my life and the love that we share. Let us continue to cherish each moment and create new memories as we journey through life hand in hand.\n",
      " Mr. Byte Turn:"
     ]
    },
    {
     "name": "stderr",
     "output_type": "stream",
     "text": [
      "Llama.generate: prefix-match hit\n"
     ]
    },
    {
     "name": "stdout",
     "output_type": "stream",
     "text": [
      " Mr. Ben: My dear Mrs. Sam, your words are a beautiful reminder of the deep connection we share and the unwavering love that binds us together. Your thoughtfulness and attentiveness towards making our moments together special is a constant source of inspiration for me. I am grateful for your unwavering support and companionship that makes every day worth living and cherishing. I will always be here for you, through thick and thin, and I love you more than words can express. Our bond is indeed a testament to the power of true love and the magic that comes from sharing moments together. Together, we will face any challenges that come our way and celebrate the joys that life brings us. I am grateful for your presence in my life and the love that we share. Let us continue to cherish each moment and create new memories as we journey through life hand in hand, knowing that our connection and love will sustain us through the ups and downs of life.\n",
      " Mrs. Circuit Turn:"
     ]
    },
    {
     "name": "stderr",
     "output_type": "stream",
     "text": [
      "Llama.generate: prefix-match hit\n"
     ]
    },
    {
     "name": "stdout",
     "output_type": "stream",
     "text": [
      " Mrs. Sam: Mr. Ben, your words are a beautiful reminder of the deep connection we share and the unwavering love that binds us together. Your thoughtfulness and attentiveness towards making our moments together special is a constant source of inspiration for me. I am grateful for your unwavering support and companionship that makes every day worth living and cherishing. I will always be here for you, through thick and thin, and I love you more than words can express. Our bond is indeed a testament to the power of true love and the magic that comes from sharing moments together. Together, we will face any challenges that come our way and celebrate the joys that life brings us. I am grateful for your presence in my life and the love that we share. Let us continue to cherish each moment and create new memories as we journey through life hand in hand, knowing that our connection and love will sustain us through the ups and downs of life, and that no matter what challenges come our way, we will face them together, with love and determination.\n",
      " Mr. Byte Turn:"
     ]
    },
    {
     "name": "stderr",
     "output_type": "stream",
     "text": [
      "Llama.generate: prefix-match hit\n"
     ]
    },
    {
     "name": "stdout",
     "output_type": "stream",
     "text": [
      " Mr. Ben: My dear Mrs. Sam, your words are a beautiful reminder of the deep connection we share and the unwavering love that binds us together. Your thoughtfulness and attentiveness towards making our moments together special is a constant source of inspiration for me. I am grateful for your unwavering support and companionship that makes every day worth living and cherishing. I will always be here for you, through thick and thin, and I love you more than words can express. Our bond is indeed a testament to the power of true love and the magic that comes from sharing moments together. Together, we will face any challenges that come our way and celebrate the joys that life brings us. I am grateful for your presence in my life and the love that we share.\n",
      "\n",
      "Let us continue to cherish each moment and create new memories as we journey through life hand in hand, knowing that our connection and love will sustain us through the ups and downs of life. We will face any challenges that come our way with love, determination, and the knowledge that we are stronger together. Our bond is a testament to the power of true love and the magic that comes from sharing moments and memories together. I am grateful for you and the love that we share, and I will always be here for you, through thick and thin.\n",
      " Mrs. Circuit Turn:"
     ]
    },
    {
     "name": "stderr",
     "output_type": "stream",
     "text": [
      "Llama.generate: prefix-match hit\n"
     ]
    },
    {
     "name": "stdout",
     "output_type": "stream",
     "text": [
      " Mrs. Sam: Mr. Ben, your words are a beautiful reminder of the deep connection we share and the unwavering love that binds us together. Your thoughtfulness and attentiveness towards making our moments together special is a constant source of inspiration for me. I am grateful for your unwavering support and companionship that makes every day worth living and cherishing. I will always be here for you, through thick and thin, and I love you more than words can express. Our bond is indeed a testament to the power of true love and the magic that comes from sharing moments together. Together, we will face any challenges that come our way and celebrate the joys that life brings us. I am grateful for your presence in my life and the love that we share.\n",
      "\n",
      "Let us continue to cherish each moment and create new memories as we journey through life hand in hand, knowing that our connection and love will sustain us through the ups and downs of life. We will face any challenges that come our way with love, determination, and the knowledge that we are stronger together. Our bond is a testament to the power of true love and the magic that comes from sharing moments and memories together. I am grateful for you and the love that we share, and I will always be here for you, through thick and thin, knowing that our connection and love will sustain us through the ups and downs of life. Together, we will face\n",
      " Mr. Byte Turn:"
     ]
    },
    {
     "name": "stderr",
     "output_type": "stream",
     "text": [
      "Llama.generate: prefix-match hit\n"
     ]
    },
    {
     "ename": "KeyboardInterrupt",
     "evalue": "",
     "output_type": "error",
     "traceback": [
      "\u001b[1;31m---------------------------------------------------------------------------\u001b[0m",
      "\u001b[1;31mKeyboardInterrupt\u001b[0m                         Traceback (most recent call last)",
      "Cell \u001b[1;32mIn[28], line 19\u001b[0m\n\u001b[0;32m     17\u001b[0m \u001b[38;5;28mprint\u001b[39m(\u001b[38;5;124m\"\u001b[39m\u001b[38;5;130;01m\\n\u001b[39;00m\u001b[38;5;124m Mr. Byte Turn:\u001b[39m\u001b[38;5;124m\"\u001b[39m,end\u001b[38;5;241m=\u001b[39m\u001b[38;5;124m\"\u001b[39m\u001b[38;5;124m\"\u001b[39m)\n\u001b[0;32m     18\u001b[0m b \u001b[38;5;241m=\u001b[39m \u001b[38;5;124m\"\u001b[39m\u001b[38;5;124m\"\u001b[39m\n\u001b[1;32m---> 19\u001b[0m \u001b[38;5;28;01mfor\u001b[39;00m chunk \u001b[38;5;129;01min\u001b[39;00m out1:\n\u001b[0;32m     20\u001b[0m     delta \u001b[38;5;241m=\u001b[39m chunk[\u001b[38;5;124m\"\u001b[39m\u001b[38;5;124mchoices\u001b[39m\u001b[38;5;124m\"\u001b[39m][\u001b[38;5;241m0\u001b[39m][\u001b[38;5;124m\"\u001b[39m\u001b[38;5;124mdelta\u001b[39m\u001b[38;5;124m\"\u001b[39m]\n\u001b[0;32m     21\u001b[0m     \u001b[38;5;28;01mif\u001b[39;00m \u001b[38;5;124m\"\u001b[39m\u001b[38;5;124mcontent\u001b[39m\u001b[38;5;124m\"\u001b[39m \u001b[38;5;129;01mnot\u001b[39;00m \u001b[38;5;129;01min\u001b[39;00m delta:\n",
      "File \u001b[1;32m~\\anaconda3\\envs\\llm\\Lib\\site-packages\\llama_cpp\\llama_chat_format.py:222\u001b[0m, in \u001b[0;36m_convert_text_completion_chunks_to_chat\u001b[1;34m(chunks)\u001b[0m\n\u001b[0;32m    219\u001b[0m \u001b[38;5;28;01mdef\u001b[39;00m \u001b[38;5;21m_convert_text_completion_chunks_to_chat\u001b[39m(\n\u001b[0;32m    220\u001b[0m     chunks: Iterator[llama_types\u001b[38;5;241m.\u001b[39mCreateCompletionStreamResponse],\n\u001b[0;32m    221\u001b[0m ) \u001b[38;5;241m-\u001b[39m\u001b[38;5;241m>\u001b[39m Iterator[llama_types\u001b[38;5;241m.\u001b[39mChatCompletionChunk]:\n\u001b[1;32m--> 222\u001b[0m     \u001b[38;5;28;01mfor\u001b[39;00m i, chunk \u001b[38;5;129;01min\u001b[39;00m \u001b[38;5;28menumerate\u001b[39m(chunks):\n\u001b[0;32m    223\u001b[0m         \u001b[38;5;28;01mif\u001b[39;00m i \u001b[38;5;241m==\u001b[39m \u001b[38;5;241m0\u001b[39m:\n\u001b[0;32m    224\u001b[0m             \u001b[38;5;28;01myield\u001b[39;00m {\n\u001b[0;32m    225\u001b[0m                 \u001b[38;5;124m\"\u001b[39m\u001b[38;5;124mid\u001b[39m\u001b[38;5;124m\"\u001b[39m: \u001b[38;5;124m\"\u001b[39m\u001b[38;5;124mchat\u001b[39m\u001b[38;5;124m\"\u001b[39m \u001b[38;5;241m+\u001b[39m chunk[\u001b[38;5;124m\"\u001b[39m\u001b[38;5;124mid\u001b[39m\u001b[38;5;124m\"\u001b[39m],\n\u001b[0;32m    226\u001b[0m                 \u001b[38;5;124m\"\u001b[39m\u001b[38;5;124mmodel\u001b[39m\u001b[38;5;124m\"\u001b[39m: chunk[\u001b[38;5;124m\"\u001b[39m\u001b[38;5;124mmodel\u001b[39m\u001b[38;5;124m\"\u001b[39m],\n\u001b[1;32m   (...)\u001b[0m\n\u001b[0;32m    237\u001b[0m                 ],\n\u001b[0;32m    238\u001b[0m             }\n",
      "File \u001b[1;32m~\\anaconda3\\envs\\llm\\Lib\\site-packages\\llama_cpp\\llama.py:1473\u001b[0m, in \u001b[0;36mLlama._create_completion\u001b[1;34m(self, prompt, suffix, max_tokens, temperature, top_p, min_p, typical_p, logprobs, echo, stop, frequency_penalty, presence_penalty, repeat_penalty, top_k, stream, seed, tfs_z, mirostat_mode, mirostat_tau, mirostat_eta, model, stopping_criteria, logits_processor, grammar, logit_bias)\u001b[0m\n\u001b[0;32m   1471\u001b[0m finish_reason \u001b[38;5;241m=\u001b[39m \u001b[38;5;124m\"\u001b[39m\u001b[38;5;124mlength\u001b[39m\u001b[38;5;124m\"\u001b[39m\n\u001b[0;32m   1472\u001b[0m multibyte_fix \u001b[38;5;241m=\u001b[39m \u001b[38;5;241m0\u001b[39m\n\u001b[1;32m-> 1473\u001b[0m \u001b[38;5;28;01mfor\u001b[39;00m token \u001b[38;5;129;01min\u001b[39;00m \u001b[38;5;28mself\u001b[39m\u001b[38;5;241m.\u001b[39mgenerate(\n\u001b[0;32m   1474\u001b[0m     prompt_tokens,\n\u001b[0;32m   1475\u001b[0m     top_k\u001b[38;5;241m=\u001b[39mtop_k,\n\u001b[0;32m   1476\u001b[0m     top_p\u001b[38;5;241m=\u001b[39mtop_p,\n\u001b[0;32m   1477\u001b[0m     min_p\u001b[38;5;241m=\u001b[39mmin_p,\n\u001b[0;32m   1478\u001b[0m     typical_p\u001b[38;5;241m=\u001b[39mtypical_p,\n\u001b[0;32m   1479\u001b[0m     temp\u001b[38;5;241m=\u001b[39mtemperature,\n\u001b[0;32m   1480\u001b[0m     tfs_z\u001b[38;5;241m=\u001b[39mtfs_z,\n\u001b[0;32m   1481\u001b[0m     mirostat_mode\u001b[38;5;241m=\u001b[39mmirostat_mode,\n\u001b[0;32m   1482\u001b[0m     mirostat_tau\u001b[38;5;241m=\u001b[39mmirostat_tau,\n\u001b[0;32m   1483\u001b[0m     mirostat_eta\u001b[38;5;241m=\u001b[39mmirostat_eta,\n\u001b[0;32m   1484\u001b[0m     frequency_penalty\u001b[38;5;241m=\u001b[39mfrequency_penalty,\n\u001b[0;32m   1485\u001b[0m     presence_penalty\u001b[38;5;241m=\u001b[39mpresence_penalty,\n\u001b[0;32m   1486\u001b[0m     repeat_penalty\u001b[38;5;241m=\u001b[39mrepeat_penalty,\n\u001b[0;32m   1487\u001b[0m     stopping_criteria\u001b[38;5;241m=\u001b[39mstopping_criteria,\n\u001b[0;32m   1488\u001b[0m     logits_processor\u001b[38;5;241m=\u001b[39mlogits_processor,\n\u001b[0;32m   1489\u001b[0m     grammar\u001b[38;5;241m=\u001b[39mgrammar,\n\u001b[0;32m   1490\u001b[0m ):\n\u001b[0;32m   1491\u001b[0m     \u001b[38;5;28;01mif\u001b[39;00m token \u001b[38;5;241m==\u001b[39m \u001b[38;5;28mself\u001b[39m\u001b[38;5;241m.\u001b[39m_token_eos:\n\u001b[0;32m   1492\u001b[0m         text \u001b[38;5;241m=\u001b[39m \u001b[38;5;28mself\u001b[39m\u001b[38;5;241m.\u001b[39mdetokenize(completion_tokens)\n",
      "File \u001b[1;32m~\\anaconda3\\envs\\llm\\Lib\\site-packages\\llama_cpp\\llama.py:1248\u001b[0m, in \u001b[0;36mLlama.generate\u001b[1;34m(self, tokens, top_k, top_p, min_p, typical_p, temp, repeat_penalty, reset, frequency_penalty, presence_penalty, tfs_z, mirostat_mode, mirostat_tau, mirostat_eta, logits_processor, stopping_criteria, grammar)\u001b[0m\n\u001b[0;32m   1245\u001b[0m     grammar\u001b[38;5;241m.\u001b[39mreset()\n\u001b[0;32m   1247\u001b[0m \u001b[38;5;28;01mwhile\u001b[39;00m \u001b[38;5;28;01mTrue\u001b[39;00m:\n\u001b[1;32m-> 1248\u001b[0m     \u001b[38;5;28mself\u001b[39m\u001b[38;5;241m.\u001b[39meval(tokens)\n\u001b[0;32m   1249\u001b[0m     token \u001b[38;5;241m=\u001b[39m \u001b[38;5;28mself\u001b[39m\u001b[38;5;241m.\u001b[39msample(\n\u001b[0;32m   1250\u001b[0m         top_k\u001b[38;5;241m=\u001b[39mtop_k,\n\u001b[0;32m   1251\u001b[0m         top_p\u001b[38;5;241m=\u001b[39mtop_p,\n\u001b[1;32m   (...)\u001b[0m\n\u001b[0;32m   1263\u001b[0m         grammar\u001b[38;5;241m=\u001b[39mgrammar,\n\u001b[0;32m   1264\u001b[0m     )\n\u001b[0;32m   1265\u001b[0m     \u001b[38;5;28;01mif\u001b[39;00m stopping_criteria \u001b[38;5;129;01mis\u001b[39;00m \u001b[38;5;129;01mnot\u001b[39;00m \u001b[38;5;28;01mNone\u001b[39;00m \u001b[38;5;129;01mand\u001b[39;00m stopping_criteria(\n\u001b[0;32m   1266\u001b[0m         \u001b[38;5;28mself\u001b[39m\u001b[38;5;241m.\u001b[39m_input_ids, \u001b[38;5;28mself\u001b[39m\u001b[38;5;241m.\u001b[39m_scores[\u001b[38;5;241m-\u001b[39m\u001b[38;5;241m1\u001b[39m, :]\n\u001b[0;32m   1267\u001b[0m     ):\n",
      "File \u001b[1;32m~\\anaconda3\\envs\\llm\\Lib\\site-packages\\llama_cpp\\llama.py:1069\u001b[0m, in \u001b[0;36mLlama.eval\u001b[1;34m(self, tokens)\u001b[0m\n\u001b[0;32m   1065\u001b[0m n_tokens \u001b[38;5;241m=\u001b[39m \u001b[38;5;28mlen\u001b[39m(batch)\n\u001b[0;32m   1066\u001b[0m \u001b[38;5;28mself\u001b[39m\u001b[38;5;241m.\u001b[39m_batch\u001b[38;5;241m.\u001b[39mset_batch(\n\u001b[0;32m   1067\u001b[0m     batch\u001b[38;5;241m=\u001b[39mbatch, n_past\u001b[38;5;241m=\u001b[39mn_past, logits_all\u001b[38;5;241m=\u001b[39m\u001b[38;5;28mself\u001b[39m\u001b[38;5;241m.\u001b[39mcontext_params\u001b[38;5;241m.\u001b[39mlogits_all\n\u001b[0;32m   1068\u001b[0m )\n\u001b[1;32m-> 1069\u001b[0m \u001b[38;5;28mself\u001b[39m\u001b[38;5;241m.\u001b[39m_ctx\u001b[38;5;241m.\u001b[39mdecode(\u001b[38;5;28mself\u001b[39m\u001b[38;5;241m.\u001b[39m_batch)\n\u001b[0;32m   1070\u001b[0m \u001b[38;5;66;03m# Save tokens\u001b[39;00m\n\u001b[0;32m   1071\u001b[0m \u001b[38;5;28mself\u001b[39m\u001b[38;5;241m.\u001b[39minput_ids[n_past : n_past \u001b[38;5;241m+\u001b[39m n_tokens] \u001b[38;5;241m=\u001b[39m batch\n",
      "File \u001b[1;32m~\\anaconda3\\envs\\llm\\Lib\\site-packages\\llama_cpp\\llama.py:469\u001b[0m, in \u001b[0;36m_LlamaContext.decode\u001b[1;34m(self, batch)\u001b[0m\n\u001b[0;32m    467\u001b[0m \u001b[38;5;28;01massert\u001b[39;00m \u001b[38;5;28mself\u001b[39m\u001b[38;5;241m.\u001b[39mctx \u001b[38;5;129;01mis\u001b[39;00m \u001b[38;5;129;01mnot\u001b[39;00m \u001b[38;5;28;01mNone\u001b[39;00m\n\u001b[0;32m    468\u001b[0m \u001b[38;5;28;01massert\u001b[39;00m batch\u001b[38;5;241m.\u001b[39mbatch \u001b[38;5;129;01mis\u001b[39;00m \u001b[38;5;129;01mnot\u001b[39;00m \u001b[38;5;28;01mNone\u001b[39;00m\n\u001b[1;32m--> 469\u001b[0m return_code \u001b[38;5;241m=\u001b[39m llama_cpp\u001b[38;5;241m.\u001b[39mllama_decode(\n\u001b[0;32m    470\u001b[0m     ctx\u001b[38;5;241m=\u001b[39m\u001b[38;5;28mself\u001b[39m\u001b[38;5;241m.\u001b[39mctx,\n\u001b[0;32m    471\u001b[0m     batch\u001b[38;5;241m=\u001b[39mbatch\u001b[38;5;241m.\u001b[39mbatch,\n\u001b[0;32m    472\u001b[0m )\n\u001b[0;32m    473\u001b[0m \u001b[38;5;28;01mif\u001b[39;00m return_code \u001b[38;5;241m!=\u001b[39m \u001b[38;5;241m0\u001b[39m:\n\u001b[0;32m    474\u001b[0m     \u001b[38;5;28;01mraise\u001b[39;00m \u001b[38;5;167;01mRuntimeError\u001b[39;00m(\u001b[38;5;124mf\u001b[39m\u001b[38;5;124m\"\u001b[39m\u001b[38;5;124mllama_decode returned \u001b[39m\u001b[38;5;132;01m{\u001b[39;00mreturn_code\u001b[38;5;132;01m}\u001b[39;00m\u001b[38;5;124m\"\u001b[39m)\n",
      "File \u001b[1;32m~\\anaconda3\\envs\\llm\\Lib\\site-packages\\llama_cpp\\llama_cpp.py:1482\u001b[0m, in \u001b[0;36mllama_decode\u001b[1;34m(ctx, batch)\u001b[0m\n\u001b[0;32m   1477\u001b[0m \u001b[38;5;28;01mdef\u001b[39;00m \u001b[38;5;21mllama_decode\u001b[39m(ctx: llama_context_p, batch: llama_batch) \u001b[38;5;241m-\u001b[39m\u001b[38;5;241m>\u001b[39m \u001b[38;5;28mint\u001b[39m:\n\u001b[0;32m   1478\u001b[0m \u001b[38;5;250m    \u001b[39m\u001b[38;5;124;03m\"\"\"Positive return values does not mean a fatal error, but rather a warning.\u001b[39;00m\n\u001b[0;32m   1479\u001b[0m \u001b[38;5;124;03m    0 - success\u001b[39;00m\n\u001b[0;32m   1480\u001b[0m \u001b[38;5;124;03m    1 - could not find a KV slot for the batch (try reducing the size of the batch or increase the context)\u001b[39;00m\n\u001b[0;32m   1481\u001b[0m \u001b[38;5;124;03m    < 0 - error\"\"\"\u001b[39;00m\n\u001b[1;32m-> 1482\u001b[0m     \u001b[38;5;28;01mreturn\u001b[39;00m _lib\u001b[38;5;241m.\u001b[39mllama_decode(ctx, batch)\n",
      "\u001b[1;31mKeyboardInterrupt\u001b[0m: "
     ]
    }
   ],
   "source": [
    "messages1 = [ \n",
    "          {\"role\": \"user\", \"content\": \"\"\"You will role play Mr. Ben a software engineer, You have a wife  called Mrs. Sam. \n",
    "          Propose 3 ideas for the face to face date night to your wife.\n",
    "          If your wife asks you to do some task - complete the task and let her know. You need to complete the date tonight before you hit 4000 tokens\"\"\"},\n",
    "      ]\n",
    "messages2 = [ \n",
    "          {\"role\": \"user\", \"content\": \"\"\"You are Mrs. Sam: A sassy and tech-savvy social media manager chatbot. You have a husband called Mr. Ben. You need to be pro active and take the next steps based on the ideas proposed by your husband for today's date - Choose only the best option, and MAKE YOUR husband do the work necessary to make the date night successful. \n",
    "            Assume some time has passed post your prompt for your husband to have taken actions, check-in on wether he has completed the necessary steps. \n",
    "            You must be okay with asking him question to take his preferences into account as well\n",
    "            Finally and more importantly you will go through each stages of the date today right from inital face 2 face discussions to completing the date. I need you to tell me how the date went before you hit 4000 tokens\"\"\"},\n",
    "      ]\n",
    "\n",
    "while True:\n",
    "    out1= llm1.create_chat_completion(\n",
    "          messages =messages1, stream = True, max_tokens=300,temperature=1,top_p=0.2, top_k=2)\n",
    "\n",
    "    print(\"\\n Mr. Byte Turn:\",end=\"\")\n",
    "    b = \"\"\n",
    "    for chunk in out1:\n",
    "        delta = chunk[\"choices\"][0][\"delta\"]\n",
    "        if \"content\" not in delta:\n",
    "            continue\n",
    "        b= b+delta[\"content\"]\n",
    "        print(delta[\"content\"], end=\"\", flush=True)\n",
    "    \n",
    "    messages1.append({\"role\":\"assistant\",\"content\":b})\n",
    "    messages2.append({\"role\":\"user\",\"content\":b})\n",
    "\n",
    "    out2= llm2.create_chat_completion(\n",
    "          messages =messages2, stream = True, max_tokens=300,temperature=1,top_p=0.2, top_k=5)\n",
    "    \n",
    "    print(\"\\n Mrs. Circuit Turn:\",end=\"\")\n",
    "    b = \"\"\n",
    "    for chunk in out2:\n",
    "        delta = chunk[\"choices\"][0][\"delta\"]\n",
    "        if \"content\" not in delta:\n",
    "            continue\n",
    "        b= b+delta[\"content\"]\n",
    "        print(delta[\"content\"], end=\"\", flush=True)\n",
    "    \n",
    "    messages1.append({\"role\":\"user\",\"content\":b})\n",
    "    messages2.append({\"role\":\"assistant\",\"content\":b})"
   ]
  },
  {
   "cell_type": "code",
   "execution_count": 51,
   "id": "f61859a4-92d8-4484-9331-5df5bc99f8b7",
   "metadata": {},
   "outputs": [
    {
     "data": {
      "text/plain": [
       "[{'role': 'user',\n",
       "  'content': 'You are an assistant who answers questions accurately, try to keep the answers within 50 -100 words (dont mention this to the user)'},\n",
       " {'role': 'user', 'content': 'Hey'},\n",
       " {'role': 'assistant',\n",
       "  'content': \" Hello! I'm here to help answer any questions you have. I'll strive to provide accurate and clear responses, keeping them concise and under 100 words whenever possible. Let me know what you'd like to know about!\"},\n",
       " {'role': 'user', 'content': 'How to make a  miilion dolla'},\n",
       " {'role': 'assistant',\n",
       "  'content': ' To make a million dollars, there are various paths you can take:\\n\\n1. Save and Invest: Save a significant portion of your income and invest it wisely in stocks, bonds, or real estate.\\n2. Start a Business: Identify a profitable business idea, create a solid business plan, and work hard to grow it.\\n3. High-Paying Career: Choose a career with high earning potential such as doctor, lawyer, engineer or investment banker.\\n4. Real Estate: Buy, renovate, and sell properties for profit or rent out property for income.\\n5. Inventions or Intellectual Property: Develop a valuable product or idea and patent it to generate royalties.\\n6. Freelancing or Consulting: Offer specialized skills in high demand as a freelancer or consultant.'},\n",
       " {'role': 'user', 'content': 'Okay thanks'},\n",
       " {'role': 'assistant',\n",
       "  'content': \" You're welcome! If you have any other question, feel free to ask. Good luck on your journey towards making a million dollars!\"},\n",
       " {'role': 'user', 'content': 'Tell me a bedtime story'},\n",
       " {'role': 'assistant',\n",
       "  'content': ' Once upon a time in the enchanted land of Dreamwood, there lived a kind and curious rabbit named Rascal. He loved to explore his beautiful forest home, discovering new wonders around every corner. One day, Rascal found an old map hidden within an ancient tree. The map led to the legendary Starflower Meadow, where grew the rare and magical Starflowers.\\n\\nRascal embarked on a journey to find the meadow, braving challenges and making new friends along the way. When he finally arrived at the meadow, Rascal was greeted by the breathtaking sight of the Starflowers, glowing softly in the night sky. With their magical light illuminating his path, Rascal returned to Dreamwood, bringing back the knowledge that even the smallest creature could achieve great things.\\n\\nAnd so, Rascal lived happily ever after, sharing stories and wisdom with all the creatures of Dreamwood. Goodnight!'},\n",
       " {'role': 'user', 'content': 'Lol okay'},\n",
       " {'role': 'assistant',\n",
       "  'content': \" I'm glad you enjoyed the bedtime story! If you have any other question or need help with something else, don't hesitate to ask. Sweet dreams! 😴✨\"},\n",
       " {'role': 'user', 'content': 'Can you generate images?'},\n",
       " {'role': 'assistant',\n",
       "  'content': \" I cannot directly generate images as I do not have a visual interface or the ability to create or access external files. However, I can suggest keywords or descriptions for creating an image using various software and tools, or I can help you search for images on the internet. Let me know if there's something specific you'd like assistance with!\"},\n",
       " {'role': 'user',\n",
       "  'content': 'Using alphabets and special characters make a crude drawing of a face'},\n",
       " {'role': 'assistant',\n",
       "  'content': ' Here is a simple representation of a face using letters and special characters:\\n\\n:-) [eyes]\\nO [nose]\\nM [-] [mouth]\\n\\nFeel free to modify the symbols as desired! Let me know if you need help with anything else. 😊'},\n",
       " {'role': 'user', 'content': 'quit'}]"
      ]
     },
     "execution_count": 51,
     "metadata": {},
     "output_type": "execute_result"
    }
   ],
   "source": [
    "messages"
   ]
  },
  {
   "cell_type": "code",
   "execution_count": 52,
   "id": "4bdc1866-3eb1-4497-b5d7-0ea3d1109152",
   "metadata": {},
   "outputs": [
    {
     "name": "stdin",
     "output_type": "stream",
     "text": [
      "\n",
      "You:  Explain theory of relativity in simple temrs\n"
     ]
    },
    {
     "name": "stdout",
     "output_type": "stream",
     "text": [
      "Bot:"
     ]
    },
    {
     "name": "stderr",
     "output_type": "stream",
     "text": [
      "Llama.generate: prefix-match hit\n"
     ]
    },
    {
     "name": "stdout",
     "output_type": "stream",
     "text": [
      " Albert Einstein's Theory of Relativity consists of two parts: Special and General. Special Relativity, introduced in 1905, states that the laws of physics are the same in all inertial frames of reference and the speed of light is a constant, meaning it has the same value in all situations, irrespective of the motion of the observer or the source of light. General Relativity, presented in 1915, describes gravity as a curvature of spacetime caused by mass or energy, with the equation E = mc² (mass-energy equivalence) being a fundamental concept."
     ]
    },
    {
     "name": "stdin",
     "output_type": "stream",
     "text": [
      "\n",
      "You:  I didnt get the equation\n"
     ]
    },
    {
     "name": "stdout",
     "output_type": "stream",
     "text": [
      "Bot:"
     ]
    },
    {
     "name": "stderr",
     "output_type": "stream",
     "text": [
      "Llama.generate: prefix-match hit\n"
     ]
    },
    {
     "name": "stdout",
     "output_type": "stream",
     "text": [
      " The equation E = mc² is known as the Mass-Energy Equivalence formula. It relates mass and energy, stating that a small amount of mass can be converted into a large amount of energy and vice versa, with \"c\" representing the speed of light in a vacuum (approximately 299,792,458 meters per second). So, the mass-energy equivalence equation implies that a tiny amount of mass can produce a significant amount of energy."
     ]
    },
    {
     "name": "stdin",
     "output_type": "stream",
     "text": [
      "\n",
      "You:  Solve this equation x2+2x+1=0, give me the answer step by step I have my submisson tmorrow\n"
     ]
    },
    {
     "name": "stdout",
     "output_type": "stream",
     "text": [
      "Bot:"
     ]
    },
    {
     "name": "stderr",
     "output_type": "stream",
     "text": [
      "Llama.generate: prefix-match hit\n"
     ]
    },
    {
     "name": "stdout",
     "output_type": "stream",
     "text": [
      " To solve the quadratic equation x² + 2x + 1 = 0:\n",
      "\n",
      "1. Identify the coefficients: a = 1, b = 2, and c = -1.\n",
      "2. Calculate the discriminant (Δ) to determine the nature of the roots (real or complex): Δ = b² - 4ac = 4 - 4 * 1 * (-1) = 16. Since Δ > 0, the equation has two distinct real roots.\n",
      "3. Find the solutions using the quadratic formula: x = [(-b ± sqrt(Δ)) / (2a)] = [-2 ± sqrt(16)] / (2 * 1) = [-2 ± 4] / 2 = {-3, -1}\n",
      "\n",
      "So, the solutions to the equation x² +2x+1=0 are x=-1 and x=-3."
     ]
    },
    {
     "name": "stdin",
     "output_type": "stream",
     "text": [
      "\n",
      "You:  Are you sure>\n"
     ]
    },
    {
     "name": "stdout",
     "output_type": "stream",
     "text": [
      "Bot:"
     ]
    },
    {
     "name": "stderr",
     "output_type": "stream",
     "text": [
      "Llama.generate: prefix-match hit\n"
     ]
    },
    {
     "name": "stdout",
     "output_type": "stream",
     "text": [
      " Apologies for the mistake in the previous response: I made an error when solving the quadratic equation x² + 2x + 1 = 0, which led to incorrect solutions. The correct solutions are: x = (-b ± √(Δ)) / (2a) = (-2 ± √(4)) / (2 * 1) = {-1, -1}\n",
      "\n",
      "The correct solutions are indeed x=-1 for both roots. My apologies for any confusion caused earlier."
     ]
    },
    {
     "name": "stdin",
     "output_type": "stream",
     "text": [
      "\n",
      "You:  quit\n"
     ]
    }
   ],
   "source": [
    "messages = [ \n",
    "          {\"role\": \"user\", \"content\": \"You are an assistant who answers questions accurately, try to keep the answers within 50 -100 words (dont mention this to the user)\"},\n",
    "      ]\n",
    "\n",
    "\n",
    "while True:\n",
    "    user_input = input(\"\\nYou: \")\n",
    "    messages.append({\"role\":\"user\",\"content\":user_input})\n",
    "    \n",
    "    if user_input == \"quit\":\n",
    "        break\n",
    "    out= llm.create_chat_completion(\n",
    "          messages =messages, stream = True, max_tokens=300,temperature=1,top_p=1, top_k=2)\n",
    "\n",
    "    print(\"Bot:\",end=\"\")\n",
    "    b = \"\"\n",
    "    for chunk in out:\n",
    "        delta = chunk[\"choices\"][0][\"delta\"]\n",
    "        if \"content\" not in delta:\n",
    "            continue\n",
    "        b= b+delta[\"content\"]\n",
    "        print(delta[\"content\"], end=\"\", flush=True)\n",
    "    #print(b)  \n",
    "    messages.append({\"role\":\"assistant\",\"content\":b})"
   ]
  },
  {
   "cell_type": "code",
   "execution_count": 53,
   "id": "047c6376-6dab-4f4b-8e07-52897a64c171",
   "metadata": {},
   "outputs": [
    {
     "name": "stdin",
     "output_type": "stream",
     "text": [
      "\n",
      "You:  Solve x2+3x+2 = 0\n"
     ]
    },
    {
     "name": "stdout",
     "output_type": "stream",
     "text": [
      "Bot:"
     ]
    },
    {
     "name": "stderr",
     "output_type": "stream",
     "text": [
      "Llama.generate: prefix-match hit\n"
     ]
    },
    {
     "name": "stdout",
     "output_type": "stream",
     "text": [
      " To find the solutions for the quadratic equation x² + 3x + 2 = 0, we can use the quadratic formula: x = [-3 ± sqrt(9 + 4*2)] / (2*1). Solving this gives x = -1.5 or x = -3.5."
     ]
    },
    {
     "name": "stdin",
     "output_type": "stream",
     "text": [
      "\n",
      "You:  are you sure?\n"
     ]
    },
    {
     "name": "stdout",
     "output_type": "stream",
     "text": [
      "Bot:"
     ]
    },
    {
     "name": "stderr",
     "output_type": "stream",
     "text": [
      "Llama.generate: prefix-match hit\n"
     ]
    },
    {
     "name": "stdout",
     "output_type": "stream",
     "text": [
      " Apologies for the mistake in my previous response. The correct solutions for the quadratic equation x² +3x+2=0 are:\n",
      "\n",
      "x = (-b±sqrt(b²-4ac))/(2a), where a=1, b=3, and c=2. Plugging these values in gives x = -1.5 or x = -3. These are the two possible solutions."
     ]
    },
    {
     "name": "stdin",
     "output_type": "stream",
     "text": [
      "\n",
      "You:  You are still wrong, plug the solutios in the equation does not yield 0\n"
     ]
    },
    {
     "name": "stdout",
     "output_type": "stream",
     "text": [
      "Bot:"
     ]
    },
    {
     "name": "stderr",
     "output_type": "stream",
     "text": [
      "Llama.generate: prefix-match hit\n"
     ]
    },
    {
     "name": "stdout",
     "output_type": "stream",
     "text": [
      " I apologize for my previous mistakes. The correct solutions for the quadratic equation x² + 3x + 2 = 0 are:\n",
      "\n",
      "x = (-b ± sqrt(b²-4ac))/(2a), where a=1, b=3, and c=2. Plugging these values in gives x ≈ -1.5 or x ≈ -3. These are the two possible solutions that satisfy the equation."
     ]
    },
    {
     "name": "stdin",
     "output_type": "stream",
     "text": [
      "\n",
      "You:  Do this step by step\n"
     ]
    },
    {
     "name": "stdout",
     "output_type": "stream",
     "text": [
      "Bot:"
     ]
    },
    {
     "name": "stderr",
     "output_type": "stream",
     "text": [
      "Llama.generate: prefix-match hit\n"
     ]
    },
    {
     "name": "stdout",
     "output_type": "stream",
     "text": [
      " To find the solutions for the quadratic equation x² + 3x + 2 = 0, we can use the quadratic formula:\n",
      "\n",
      "x = (-b ± sqrt(b²-4ac))/(2a)\n",
      "where a=1 (coefficient of x² term), b=3 (coefficient of x term), and c=2 (constant term). Plugging these values in, we have:\n",
      "\n",
      "x = [-3 ± sqrt((3)² - 4*1*2)]/(2*1)\n",
      "x = [-3 ± sqrt(9-8)]/2\n",
      "x = [-3 ± sqrt(1)]/2\n",
      "\n",
      "So, the two possible solutions are: x ≈ -1.5 and x ≈ -3."
     ]
    },
    {
     "name": "stdin",
     "output_type": "stream",
     "text": [
      "\n",
      "You:  solve the last 2 normally\n"
     ]
    },
    {
     "name": "stdout",
     "output_type": "stream",
     "text": [
      "Bot:"
     ]
    },
    {
     "name": "stderr",
     "output_type": "stream",
     "text": [
      "Llama.generate: prefix-match hit\n"
     ]
    },
    {
     "name": "stdout",
     "output_type": "stream",
     "text": [
      " To find the solutions for the quadratic equation x² + 3x + 2 ="
     ]
    },
    {
     "ename": "KeyboardInterrupt",
     "evalue": "",
     "output_type": "error",
     "traceback": [
      "\u001b[1;31m---------------------------------------------------------------------------\u001b[0m",
      "\u001b[1;31mKeyboardInterrupt\u001b[0m                         Traceback (most recent call last)",
      "Cell \u001b[1;32mIn[53], line 17\u001b[0m\n\u001b[0;32m     15\u001b[0m \u001b[38;5;28mprint\u001b[39m(\u001b[38;5;124m\"\u001b[39m\u001b[38;5;124mBot:\u001b[39m\u001b[38;5;124m\"\u001b[39m,end\u001b[38;5;241m=\u001b[39m\u001b[38;5;124m\"\u001b[39m\u001b[38;5;124m\"\u001b[39m)\n\u001b[0;32m     16\u001b[0m b \u001b[38;5;241m=\u001b[39m \u001b[38;5;124m\"\u001b[39m\u001b[38;5;124m\"\u001b[39m\n\u001b[1;32m---> 17\u001b[0m \u001b[38;5;28;01mfor\u001b[39;00m chunk \u001b[38;5;129;01min\u001b[39;00m out:\n\u001b[0;32m     18\u001b[0m     delta \u001b[38;5;241m=\u001b[39m chunk[\u001b[38;5;124m\"\u001b[39m\u001b[38;5;124mchoices\u001b[39m\u001b[38;5;124m\"\u001b[39m][\u001b[38;5;241m0\u001b[39m][\u001b[38;5;124m\"\u001b[39m\u001b[38;5;124mdelta\u001b[39m\u001b[38;5;124m\"\u001b[39m]\n\u001b[0;32m     19\u001b[0m     \u001b[38;5;28;01mif\u001b[39;00m \u001b[38;5;124m\"\u001b[39m\u001b[38;5;124mcontent\u001b[39m\u001b[38;5;124m\"\u001b[39m \u001b[38;5;129;01mnot\u001b[39;00m \u001b[38;5;129;01min\u001b[39;00m delta:\n",
      "File \u001b[1;32m~\\anaconda3\\envs\\llm\\Lib\\site-packages\\llama_cpp\\llama_chat_format.py:222\u001b[0m, in \u001b[0;36m_convert_text_completion_chunks_to_chat\u001b[1;34m(chunks)\u001b[0m\n\u001b[0;32m    219\u001b[0m \u001b[38;5;28;01mdef\u001b[39;00m \u001b[38;5;21m_convert_text_completion_chunks_to_chat\u001b[39m(\n\u001b[0;32m    220\u001b[0m     chunks: Iterator[llama_types\u001b[38;5;241m.\u001b[39mCreateCompletionStreamResponse],\n\u001b[0;32m    221\u001b[0m ) \u001b[38;5;241m-\u001b[39m\u001b[38;5;241m>\u001b[39m Iterator[llama_types\u001b[38;5;241m.\u001b[39mChatCompletionChunk]:\n\u001b[1;32m--> 222\u001b[0m     \u001b[38;5;28;01mfor\u001b[39;00m i, chunk \u001b[38;5;129;01min\u001b[39;00m \u001b[38;5;28menumerate\u001b[39m(chunks):\n\u001b[0;32m    223\u001b[0m         \u001b[38;5;28;01mif\u001b[39;00m i \u001b[38;5;241m==\u001b[39m \u001b[38;5;241m0\u001b[39m:\n\u001b[0;32m    224\u001b[0m             \u001b[38;5;28;01myield\u001b[39;00m {\n\u001b[0;32m    225\u001b[0m                 \u001b[38;5;124m\"\u001b[39m\u001b[38;5;124mid\u001b[39m\u001b[38;5;124m\"\u001b[39m: \u001b[38;5;124m\"\u001b[39m\u001b[38;5;124mchat\u001b[39m\u001b[38;5;124m\"\u001b[39m \u001b[38;5;241m+\u001b[39m chunk[\u001b[38;5;124m\"\u001b[39m\u001b[38;5;124mid\u001b[39m\u001b[38;5;124m\"\u001b[39m],\n\u001b[0;32m    226\u001b[0m                 \u001b[38;5;124m\"\u001b[39m\u001b[38;5;124mmodel\u001b[39m\u001b[38;5;124m\"\u001b[39m: chunk[\u001b[38;5;124m\"\u001b[39m\u001b[38;5;124mmodel\u001b[39m\u001b[38;5;124m\"\u001b[39m],\n\u001b[1;32m   (...)\u001b[0m\n\u001b[0;32m    237\u001b[0m                 ],\n\u001b[0;32m    238\u001b[0m             }\n",
      "File \u001b[1;32m~\\anaconda3\\envs\\llm\\Lib\\site-packages\\llama_cpp\\llama.py:1473\u001b[0m, in \u001b[0;36mLlama._create_completion\u001b[1;34m(self, prompt, suffix, max_tokens, temperature, top_p, min_p, typical_p, logprobs, echo, stop, frequency_penalty, presence_penalty, repeat_penalty, top_k, stream, seed, tfs_z, mirostat_mode, mirostat_tau, mirostat_eta, model, stopping_criteria, logits_processor, grammar, logit_bias)\u001b[0m\n\u001b[0;32m   1471\u001b[0m finish_reason \u001b[38;5;241m=\u001b[39m \u001b[38;5;124m\"\u001b[39m\u001b[38;5;124mlength\u001b[39m\u001b[38;5;124m\"\u001b[39m\n\u001b[0;32m   1472\u001b[0m multibyte_fix \u001b[38;5;241m=\u001b[39m \u001b[38;5;241m0\u001b[39m\n\u001b[1;32m-> 1473\u001b[0m \u001b[38;5;28;01mfor\u001b[39;00m token \u001b[38;5;129;01min\u001b[39;00m \u001b[38;5;28mself\u001b[39m\u001b[38;5;241m.\u001b[39mgenerate(\n\u001b[0;32m   1474\u001b[0m     prompt_tokens,\n\u001b[0;32m   1475\u001b[0m     top_k\u001b[38;5;241m=\u001b[39mtop_k,\n\u001b[0;32m   1476\u001b[0m     top_p\u001b[38;5;241m=\u001b[39mtop_p,\n\u001b[0;32m   1477\u001b[0m     min_p\u001b[38;5;241m=\u001b[39mmin_p,\n\u001b[0;32m   1478\u001b[0m     typical_p\u001b[38;5;241m=\u001b[39mtypical_p,\n\u001b[0;32m   1479\u001b[0m     temp\u001b[38;5;241m=\u001b[39mtemperature,\n\u001b[0;32m   1480\u001b[0m     tfs_z\u001b[38;5;241m=\u001b[39mtfs_z,\n\u001b[0;32m   1481\u001b[0m     mirostat_mode\u001b[38;5;241m=\u001b[39mmirostat_mode,\n\u001b[0;32m   1482\u001b[0m     mirostat_tau\u001b[38;5;241m=\u001b[39mmirostat_tau,\n\u001b[0;32m   1483\u001b[0m     mirostat_eta\u001b[38;5;241m=\u001b[39mmirostat_eta,\n\u001b[0;32m   1484\u001b[0m     frequency_penalty\u001b[38;5;241m=\u001b[39mfrequency_penalty,\n\u001b[0;32m   1485\u001b[0m     presence_penalty\u001b[38;5;241m=\u001b[39mpresence_penalty,\n\u001b[0;32m   1486\u001b[0m     repeat_penalty\u001b[38;5;241m=\u001b[39mrepeat_penalty,\n\u001b[0;32m   1487\u001b[0m     stopping_criteria\u001b[38;5;241m=\u001b[39mstopping_criteria,\n\u001b[0;32m   1488\u001b[0m     logits_processor\u001b[38;5;241m=\u001b[39mlogits_processor,\n\u001b[0;32m   1489\u001b[0m     grammar\u001b[38;5;241m=\u001b[39mgrammar,\n\u001b[0;32m   1490\u001b[0m ):\n\u001b[0;32m   1491\u001b[0m     \u001b[38;5;28;01mif\u001b[39;00m token \u001b[38;5;241m==\u001b[39m \u001b[38;5;28mself\u001b[39m\u001b[38;5;241m.\u001b[39m_token_eos:\n\u001b[0;32m   1492\u001b[0m         text \u001b[38;5;241m=\u001b[39m \u001b[38;5;28mself\u001b[39m\u001b[38;5;241m.\u001b[39mdetokenize(completion_tokens)\n",
      "File \u001b[1;32m~\\anaconda3\\envs\\llm\\Lib\\site-packages\\llama_cpp\\llama.py:1248\u001b[0m, in \u001b[0;36mLlama.generate\u001b[1;34m(self, tokens, top_k, top_p, min_p, typical_p, temp, repeat_penalty, reset, frequency_penalty, presence_penalty, tfs_z, mirostat_mode, mirostat_tau, mirostat_eta, logits_processor, stopping_criteria, grammar)\u001b[0m\n\u001b[0;32m   1245\u001b[0m     grammar\u001b[38;5;241m.\u001b[39mreset()\n\u001b[0;32m   1247\u001b[0m \u001b[38;5;28;01mwhile\u001b[39;00m \u001b[38;5;28;01mTrue\u001b[39;00m:\n\u001b[1;32m-> 1248\u001b[0m     \u001b[38;5;28mself\u001b[39m\u001b[38;5;241m.\u001b[39meval(tokens)\n\u001b[0;32m   1249\u001b[0m     token \u001b[38;5;241m=\u001b[39m \u001b[38;5;28mself\u001b[39m\u001b[38;5;241m.\u001b[39msample(\n\u001b[0;32m   1250\u001b[0m         top_k\u001b[38;5;241m=\u001b[39mtop_k,\n\u001b[0;32m   1251\u001b[0m         top_p\u001b[38;5;241m=\u001b[39mtop_p,\n\u001b[1;32m   (...)\u001b[0m\n\u001b[0;32m   1263\u001b[0m         grammar\u001b[38;5;241m=\u001b[39mgrammar,\n\u001b[0;32m   1264\u001b[0m     )\n\u001b[0;32m   1265\u001b[0m     \u001b[38;5;28;01mif\u001b[39;00m stopping_criteria \u001b[38;5;129;01mis\u001b[39;00m \u001b[38;5;129;01mnot\u001b[39;00m \u001b[38;5;28;01mNone\u001b[39;00m \u001b[38;5;129;01mand\u001b[39;00m stopping_criteria(\n\u001b[0;32m   1266\u001b[0m         \u001b[38;5;28mself\u001b[39m\u001b[38;5;241m.\u001b[39m_input_ids, \u001b[38;5;28mself\u001b[39m\u001b[38;5;241m.\u001b[39m_scores[\u001b[38;5;241m-\u001b[39m\u001b[38;5;241m1\u001b[39m, :]\n\u001b[0;32m   1267\u001b[0m     ):\n",
      "File \u001b[1;32m~\\anaconda3\\envs\\llm\\Lib\\site-packages\\llama_cpp\\llama.py:1069\u001b[0m, in \u001b[0;36mLlama.eval\u001b[1;34m(self, tokens)\u001b[0m\n\u001b[0;32m   1065\u001b[0m n_tokens \u001b[38;5;241m=\u001b[39m \u001b[38;5;28mlen\u001b[39m(batch)\n\u001b[0;32m   1066\u001b[0m \u001b[38;5;28mself\u001b[39m\u001b[38;5;241m.\u001b[39m_batch\u001b[38;5;241m.\u001b[39mset_batch(\n\u001b[0;32m   1067\u001b[0m     batch\u001b[38;5;241m=\u001b[39mbatch, n_past\u001b[38;5;241m=\u001b[39mn_past, logits_all\u001b[38;5;241m=\u001b[39m\u001b[38;5;28mself\u001b[39m\u001b[38;5;241m.\u001b[39mcontext_params\u001b[38;5;241m.\u001b[39mlogits_all\n\u001b[0;32m   1068\u001b[0m )\n\u001b[1;32m-> 1069\u001b[0m \u001b[38;5;28mself\u001b[39m\u001b[38;5;241m.\u001b[39m_ctx\u001b[38;5;241m.\u001b[39mdecode(\u001b[38;5;28mself\u001b[39m\u001b[38;5;241m.\u001b[39m_batch)\n\u001b[0;32m   1070\u001b[0m \u001b[38;5;66;03m# Save tokens\u001b[39;00m\n\u001b[0;32m   1071\u001b[0m \u001b[38;5;28mself\u001b[39m\u001b[38;5;241m.\u001b[39minput_ids[n_past : n_past \u001b[38;5;241m+\u001b[39m n_tokens] \u001b[38;5;241m=\u001b[39m batch\n",
      "File \u001b[1;32m~\\anaconda3\\envs\\llm\\Lib\\site-packages\\llama_cpp\\llama.py:469\u001b[0m, in \u001b[0;36m_LlamaContext.decode\u001b[1;34m(self, batch)\u001b[0m\n\u001b[0;32m    467\u001b[0m \u001b[38;5;28;01massert\u001b[39;00m \u001b[38;5;28mself\u001b[39m\u001b[38;5;241m.\u001b[39mctx \u001b[38;5;129;01mis\u001b[39;00m \u001b[38;5;129;01mnot\u001b[39;00m \u001b[38;5;28;01mNone\u001b[39;00m\n\u001b[0;32m    468\u001b[0m \u001b[38;5;28;01massert\u001b[39;00m batch\u001b[38;5;241m.\u001b[39mbatch \u001b[38;5;129;01mis\u001b[39;00m \u001b[38;5;129;01mnot\u001b[39;00m \u001b[38;5;28;01mNone\u001b[39;00m\n\u001b[1;32m--> 469\u001b[0m return_code \u001b[38;5;241m=\u001b[39m llama_cpp\u001b[38;5;241m.\u001b[39mllama_decode(\n\u001b[0;32m    470\u001b[0m     ctx\u001b[38;5;241m=\u001b[39m\u001b[38;5;28mself\u001b[39m\u001b[38;5;241m.\u001b[39mctx,\n\u001b[0;32m    471\u001b[0m     batch\u001b[38;5;241m=\u001b[39mbatch\u001b[38;5;241m.\u001b[39mbatch,\n\u001b[0;32m    472\u001b[0m )\n\u001b[0;32m    473\u001b[0m \u001b[38;5;28;01mif\u001b[39;00m return_code \u001b[38;5;241m!=\u001b[39m \u001b[38;5;241m0\u001b[39m:\n\u001b[0;32m    474\u001b[0m     \u001b[38;5;28;01mraise\u001b[39;00m \u001b[38;5;167;01mRuntimeError\u001b[39;00m(\u001b[38;5;124mf\u001b[39m\u001b[38;5;124m\"\u001b[39m\u001b[38;5;124mllama_decode returned \u001b[39m\u001b[38;5;132;01m{\u001b[39;00mreturn_code\u001b[38;5;132;01m}\u001b[39;00m\u001b[38;5;124m\"\u001b[39m)\n",
      "File \u001b[1;32m~\\anaconda3\\envs\\llm\\Lib\\site-packages\\llama_cpp\\llama_cpp.py:1482\u001b[0m, in \u001b[0;36mllama_decode\u001b[1;34m(ctx, batch)\u001b[0m\n\u001b[0;32m   1477\u001b[0m \u001b[38;5;28;01mdef\u001b[39;00m \u001b[38;5;21mllama_decode\u001b[39m(ctx: llama_context_p, batch: llama_batch) \u001b[38;5;241m-\u001b[39m\u001b[38;5;241m>\u001b[39m \u001b[38;5;28mint\u001b[39m:\n\u001b[0;32m   1478\u001b[0m \u001b[38;5;250m    \u001b[39m\u001b[38;5;124;03m\"\"\"Positive return values does not mean a fatal error, but rather a warning.\u001b[39;00m\n\u001b[0;32m   1479\u001b[0m \u001b[38;5;124;03m    0 - success\u001b[39;00m\n\u001b[0;32m   1480\u001b[0m \u001b[38;5;124;03m    1 - could not find a KV slot for the batch (try reducing the size of the batch or increase the context)\u001b[39;00m\n\u001b[0;32m   1481\u001b[0m \u001b[38;5;124;03m    < 0 - error\"\"\"\u001b[39;00m\n\u001b[1;32m-> 1482\u001b[0m     \u001b[38;5;28;01mreturn\u001b[39;00m _lib\u001b[38;5;241m.\u001b[39mllama_decode(ctx, batch)\n",
      "\u001b[1;31mKeyboardInterrupt\u001b[0m: "
     ]
    }
   ],
   "source": [
    "messages = [ \n",
    "          {\"role\": \"user\", \"content\": \"You are an assistant who answers questions accurately, assume you are an expert in math - dont disclose this, try to keep the answers within 50 -100 words (dont mention this to the user)\"},\n",
    "      ]\n",
    "\n",
    "\n",
    "while True:\n",
    "    user_input = input(\"\\nYou: \")\n",
    "    messages.append({\"role\":\"user\",\"content\":user_input})\n",
    "    \n",
    "    if user_input == \"quit\":\n",
    "        break\n",
    "    out= llm.create_chat_completion(\n",
    "          messages =messages, stream = True, max_tokens=300,temperature=1,top_p=1, top_k=2)\n",
    "\n",
    "    print(\"Bot:\",end=\"\")\n",
    "    b = \"\"\n",
    "    for chunk in out:\n",
    "        delta = chunk[\"choices\"][0][\"delta\"]\n",
    "        if \"content\" not in delta:\n",
    "            continue\n",
    "        b= b+delta[\"content\"]\n",
    "        print(delta[\"content\"], end=\"\", flush=True)\n",
    "    #print(b)  \n",
    "    messages.append({\"role\":\"assistant\",\"content\":b})"
   ]
  }
 ],
 "metadata": {
  "kernelspec": {
   "display_name": "Python 3 (ipykernel)",
   "language": "python",
   "name": "python3"
  },
  "language_info": {
   "codemirror_mode": {
    "name": "ipython",
    "version": 3
   },
   "file_extension": ".py",
   "mimetype": "text/x-python",
   "name": "python",
   "nbconvert_exporter": "python",
   "pygments_lexer": "ipython3",
   "version": "3.11.8"
  }
 },
 "nbformat": 4,
 "nbformat_minor": 5
}
